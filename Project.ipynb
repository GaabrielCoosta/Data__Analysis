{
 "cells": [
  {
   "attachments": {},
   "cell_type": "markdown",
   "metadata": {},
   "source": [
    "\n",
    "\n",
    "### Data Analysis\n",
    "\n",
    "1. What is the number of registered complaints?\n",
    "2. What is the average, maximum and minimum response time?\n",
    "3. What is the average, maximum and minimum rating of the consumer?\n",
    "4. How can we correlate customer rating with response time? Explain.\n",
    "5. What is the number of complaints by gender?\n",
    "6. How many complaints per State?\n",
    "6. What is the percentage of complaints registered and not answered?\n",
    "\n",
    "### Data Visualization\n",
    "\n",
    "At this point we will work with data visualization. Before starting to print the graphics, try to make the initial settings so that the printing takes place in Jupyter correctly and with all the necessary requirements to improve the presentation as a whole. Do your best, as if you were presenting to your boss. Follow the instructions below:\n",
    "\n",
    "5. Generate a graph with title, axis name, color and legend for the following situations:\n",
    "   * a) Frequency of complaints by gender\n",
    "   * b) Frequency of complaints by state\n",
    "   * c) Frequency of answered and unanswered complaints\n",
    "6. Imagine you are a Data Scientist responsible for measuring customer satisfaction. So that you can surprise your boss, you must do two important analyzes on the data frame, including at least two graphs with their proper title customizations, axis names, legend, styles, etc. Consider that, by bringing relevant information to the company you work for, you are more likely to have your work recognized and to be a professional with greater value in the market. Enjoy the graphics!"
   ]
  }
 ],
 "metadata": {
  "kernelspec": {
   "display_name": "Python 3",
   "language": "python",
   "name": "python3"
  },
  "language_info": {
   "codemirror_mode": {
    "name": "ipython",
    "version": 3
   },
   "file_extension": ".py",
   "mimetype": "text/x-python",
   "name": "python",
   "nbconvert_exporter": "python",
   "pygments_lexer": "ipython3",
   "version": "3.8.5"
  }
 },
 "nbformat": 4,
 "nbformat_minor": 4
}
